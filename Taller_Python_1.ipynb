{
  "nbformat": 4,
  "nbformat_minor": 0,
  "metadata": {
    "colab": {
      "provenance": []
    },
    "kernelspec": {
      "name": "python3",
      "display_name": "Python 3"
    },
    "language_info": {
      "name": "python"
    }
  },
  "cells": [
    {
      "cell_type": "markdown",
      "source": [
        "# **Universidad de La Salle**\n",
        "**Taller Python - Econometria 1**\n",
        "\n",
        "*Nombres: Tatiana Carvajal Salinas (Cód.: 63201050), Laura Valentina Duarte (Cód.:63201107) y David Santiago Pedraza (Cód.: 63201120).*"
      ],
      "metadata": {
        "id": "eGebUpQs5WTN"
      }
    },
    {
      "cell_type": "markdown",
      "source": [
        "a. Crea un programa que tome una lista de números como entrada y devuelva la suma de todos los números en la lista.\n"
      ],
      "metadata": {
        "id": "DzDLpF7m6qSO"
      }
    },
    {
      "cell_type": "code",
      "source": [
        "lista1 = [0,1,2,3,4,5,6,7,8,9]"
      ],
      "metadata": {
        "id": "jDZJ7DlM6tGt"
      },
      "execution_count": null,
      "outputs": []
    },
    {
      "cell_type": "code",
      "source": [
        "suma_de_lista1 = sum(lista1)\n",
        "print(suma_de_lista1)"
      ],
      "metadata": {
        "colab": {
          "base_uri": "https://localhost:8080/"
        },
        "id": "k6iDoqAF8VJr",
        "outputId": "582e313b-ad09-4eee-b3d6-9e1ec1454db2"
      },
      "execution_count": null,
      "outputs": [
        {
          "output_type": "stream",
          "name": "stdout",
          "text": [
            "45\n"
          ]
        }
      ]
    },
    {
      "cell_type": "markdown",
      "source": [
        "b. Escribe un programa que tome dos listas y devuelva una nueva lista que contenga todos los elementos que son comunes a ambas listas."
      ],
      "metadata": {
        "id": "uGKNhfUE80ca"
      }
    },
    {
      "cell_type": "code",
      "source": [
        "lista2 = [0,1,3,4,5]\n",
        "lista3 = [5,6,7,8]"
      ],
      "metadata": {
        "id": "3gs-04o7836y"
      },
      "execution_count": null,
      "outputs": []
    },
    {
      "cell_type": "code",
      "source": [
        "def elementos_comunes(lista2 , lista3):\n",
        "  return list(set(lista2) & set(lista3))"
      ],
      "metadata": {
        "id": "cHwbrwpq-ufp"
      },
      "execution_count": null,
      "outputs": []
    },
    {
      "cell_type": "code",
      "source": [
        "comunes = elementos_comunes(lista2 , lista3)\n",
        "print(comunes)"
      ],
      "metadata": {
        "colab": {
          "base_uri": "https://localhost:8080/"
        },
        "id": "wf3K46Qe_V9T",
        "outputId": "8e64236c-ab57-4891-e280-7d311ed686eb"
      },
      "execution_count": null,
      "outputs": [
        {
          "output_type": "stream",
          "name": "stdout",
          "text": [
            "[5]\n"
          ]
        }
      ]
    },
    {
      "cell_type": "markdown",
      "source": [
        "C. Crea un programa que tome una lista de cadenas como entrada y devuelva la longitud de la cadena más larga en la lista."
      ],
      "metadata": {
        "id": "F9_n_RV2DfMp"
      }
    },
    {
      "cell_type": "code",
      "source": [
        "def longitud_mas_larga(lista4):\n",
        "    longitud_maxima = 0\n",
        "    for cadena in lista4:\n",
        "        longitud_cadena = int(cadena)\n",
        "        if longitud_cadena > longitud_maxima:\n",
        "            longitud_maxima = longitud_cadena\n",
        "    return longitud_maxima"
      ],
      "metadata": {
        "id": "sr4FP8HADiiJ"
      },
      "execution_count": null,
      "outputs": []
    },
    {
      "cell_type": "code",
      "source": [
        "lista4 =[1,2,3,4,7,8,0]\n",
        "longitud_maxima = longitud_mas_larga(lista4)\n",
        "print(longitud_maxima) "
      ],
      "metadata": {
        "colab": {
          "base_uri": "https://localhost:8080/"
        },
        "id": "E3TChBx5DPvU",
        "outputId": "98d41e95-9047-4e7f-dd5f-15039a209f12"
      },
      "execution_count": null,
      "outputs": [
        {
          "output_type": "stream",
          "name": "stdout",
          "text": [
            "8\n"
          ]
        }
      ]
    },
    {
      "cell_type": "markdown",
      "source": [
        "d. Escribe un programa que tome una lista de números como entrada y devuelva una nueva lista que contenga solo los números pares de la lista original."
      ],
      "metadata": {
        "id": "bCChyAqIAPLS"
      }
    },
    {
      "cell_type": "code",
      "source": [
        "lista5 = [0,1,2,3,4]"
      ],
      "metadata": {
        "id": "g-BrTYWwAVDR"
      },
      "execution_count": null,
      "outputs": []
    },
    {
      "cell_type": "code",
      "source": [
        "def numeros_pares(lista5):\n",
        "  pares = []\n",
        "  for numero in lista5:\n",
        "    if numero % 2 == 0:\n",
        "      pares.append(numero)\n",
        "  return pares"
      ],
      "metadata": {
        "id": "Dke4-8W5AfcQ"
      },
      "execution_count": null,
      "outputs": []
    },
    {
      "cell_type": "code",
      "source": [
        "pares = numeros_pares(lista5)\n",
        "print(pares)"
      ],
      "metadata": {
        "id": "c1qK8C-_DELP",
        "colab": {
          "base_uri": "https://localhost:8080/"
        },
        "outputId": "83501d5f-ce2d-4412-e6d5-68ad89b6dd79"
      },
      "execution_count": null,
      "outputs": [
        {
          "output_type": "stream",
          "name": "stdout",
          "text": [
            "[0, 2, 4]\n"
          ]
        }
      ]
    },
    {
      "cell_type": "markdown",
      "source": [
        "e) Crea un programa que tome una lista de cadenas como entrada y devuelva una nueva lista que contenga solo las cadenas que comienzan con la letra \"a\".\n"
      ],
      "metadata": {
        "id": "LnhA-tk4eYej"
      }
    },
    {
      "cell_type": "code",
      "source": [
        "def cadenas_con_a(lista):\n",
        "    condicional_a = []\n",
        "    for cadena in lista:\n",
        "        if cadena.startswith('A'):\n",
        "            condicional_a.append(cadena)\n",
        "    return condicional_a\n",
        "\n",
        "\n",
        "cadenas = ['Bebe', 'Pato', 'Camion', 'Futbol', 'Avion','Abeja']\n",
        "condicional_a = cadenas_con_a(cadenas)\n",
        "print(condicional_a)"
      ],
      "metadata": {
        "colab": {
          "base_uri": "https://localhost:8080/"
        },
        "id": "a4lyB7zzeroI",
        "outputId": "6b076a8b-c066-4217-9be6-6b687c5be863"
      },
      "execution_count": null,
      "outputs": [
        {
          "output_type": "stream",
          "name": "stdout",
          "text": [
            "['Avion', 'Abeja']\n"
          ]
        }
      ]
    },
    {
      "cell_type": "markdown",
      "source": [
        "f. Escribe un programa que tome un diccionario como entrada y devuelva el valor asociado con una clave dada."
      ],
      "metadata": {
        "id": "6-Oii_8uG_KS"
      }
    },
    {
      "cell_type": "code",
      "source": [
        "def buscar_valor(diccionario, clave):\n",
        "    if clave in diccionario:\n",
        "        return diccionario[clave]\n",
        "    else:\n",
        "\n",
        "        print('Valor no encontrado')\n",
        "mi_diccionario = {'letras': ['A','B','C','D'], 'numero': [24,25,28], 'simbolos': ['!','$','%']}\n",
        "valor = buscar_valor(mi_diccionario, 'numero')\n",
        "print(valor)\n"
      ],
      "metadata": {
        "id": "xcXuRfU6HDOB",
        "colab": {
          "base_uri": "https://localhost:8080/"
        },
        "outputId": "53b03be1-a594-44bf-f418-af2cde98a1b3"
      },
      "execution_count": null,
      "outputs": [
        {
          "output_type": "stream",
          "name": "stdout",
          "text": [
            "[24, 25, 28]\n"
          ]
        }
      ]
    },
    {
      "cell_type": "markdown",
      "source": [
        "g. Crea un programa que tome una lista de diccionarios como entrada y devuelva una nueva lista que contenga solo los diccionarios que tienen una cierta clave."
      ],
      "metadata": {
        "id": "nP6DRovhJgzl"
      }
    },
    {
      "cell_type": "code",
      "source": [
        "def buscar_diccionarios(lista, clave):\n",
        "    resultado = []\n",
        "    for diccionario in lista:\n",
        "        if clave in diccionario:\n",
        "            resultado.append(diccionario)\n",
        "    return resultado\n",
        "\n",
        "lista = [{'fruta': 'mango', 'verdura': 'pepino'}, {'pais': 'Alemania', 'continente': 'America'}, {'nombre': 'simon', 'edad': 28}]\n",
        "diccionarios_con_edad = buscar_diccionarios(lista, 'fruta')\n",
        "print(diccionarios_con_edad) \n"
      ],
      "metadata": {
        "colab": {
          "base_uri": "https://localhost:8080/"
        },
        "id": "VyInHbCcJ2x6",
        "outputId": "2d68b92f-ed15-486c-fbcc-9c7812ca552e"
      },
      "execution_count": null,
      "outputs": [
        {
          "output_type": "stream",
          "name": "stdout",
          "text": [
            "[{'fruta': 'mango', 'verdura': 'pepino'}]\n"
          ]
        }
      ]
    },
    {
      "cell_type": "markdown",
      "source": [
        "h. Escribe un programa que tome un diccionario como entrada y devuelva un nuevo diccionario con las claves y los valores intercambiados."
      ],
      "metadata": {
        "id": "stRAkOrfMtJO"
      }
    },
    {
      "cell_type": "code",
      "source": [
        "def intercambiar (diccionario):\n",
        "  nuevo_diccionario = {}\n",
        "  for clave, valor in diccionario.items ():\n",
        "    nuevo_diccionario[valor] = clave\n",
        "  return nuevo_diccionario \n",
        "\n",
        "mi_diccionario = {'fruta':'mandarina', 'verdura':'lechuga', 'cereales':'arroz'}\n",
        "diccionario_invertido = intercambiar (mi_diccionario) \n",
        "print (diccionario_invertido)"
      ],
      "metadata": {
        "colab": {
          "base_uri": "https://localhost:8080/"
        },
        "id": "efVoJqBLM5tN",
        "outputId": "053ac8e3-381b-4979-cf2c-6b2ced00e4a9"
      },
      "execution_count": null,
      "outputs": [
        {
          "output_type": "stream",
          "name": "stdout",
          "text": [
            "{'mandarina': 'fruta', 'lechuga': 'verdura', 'arroz': 'cereales'}\n"
          ]
        }
      ]
    },
    {
      "cell_type": "markdown",
      "source": [
        "i. Crea un programa que tome dos diccionarios como entrada y devuelva un nuevo diccionario que contenga solo los pares clave-valor que son comunes a ambos diccionarios"
      ],
      "metadata": {
        "id": "geTO4fAoPJl0"
      }
    },
    {
      "cell_type": "code",
      "source": [
        "def los_pares_comunes(diccionario1, diccionario2):\n",
        "    pares_comunes = {}\n",
        "    for clave, valor in diccionario1.items():\n",
        "        if clave in diccionario2 and diccionario2[clave] == valor:\n",
        "            pares_comunes[clave] = valor\n",
        "    return pares_comunes\n",
        "\n",
        "mi_diccionario1 = {'nombre': 'Luisa', 'edad': 20, 'profesion': 'periodista'}\n",
        "mi_diccionario2 = {'nombre': 'sarah', 'ciudad': 'Bogota', 'profesion': 'periodista'}\n",
        "pares_comunes = los_pares_comunes(mi_diccionario1, mi_diccionario2)\n",
        "print(pares_comunes) \n"
      ],
      "metadata": {
        "colab": {
          "base_uri": "https://localhost:8080/"
        },
        "id": "JKiax24VRJ0J",
        "outputId": "88690606-6cc8-49e3-e850-421ddd9b8799"
      },
      "execution_count": null,
      "outputs": [
        {
          "output_type": "stream",
          "name": "stdout",
          "text": [
            "{'profesion': 'periodista'}\n"
          ]
        }
      ]
    },
    {
      "cell_type": "markdown",
      "source": [
        "j) Escribe un programa que tome un diccionario como entrada y devuelva un nuevo diccionario con las claves ordenadas alfabéticamente."
      ],
      "metadata": {
        "id": "4Hsab4S9QNFJ"
      }
    },
    {
      "cell_type": "code",
      "source": [
        "def ordenar_claves(diccionario):\n",
        "    claves_ordenadas = sorted(diccionario.keys())\n",
        "    diccionario_ordenado = {}\n",
        "    for clave in claves_ordenadas:\n",
        "        diccionario_ordenado[clave] = diccionario[clave]\n",
        "    return diccionario_ordenado\n",
        "\n",
        "\n",
        "mi_diccionario = {'nombre': 'Juan', 'deporte': \"Futbol\", 'hobbie': 'leer'}\n",
        "diccionario_ordenado = ordenar_claves(mi_diccionario)\n",
        "print(diccionario_ordenado) "
      ],
      "metadata": {
        "id": "KY4QWV4UQPCz",
        "colab": {
          "base_uri": "https://localhost:8080/"
        },
        "outputId": "cf1b670f-c89a-4b49-c554-12d4a4e70a28"
      },
      "execution_count": null,
      "outputs": [
        {
          "output_type": "stream",
          "name": "stdout",
          "text": [
            "{'deporte': 'Futbol', 'hobbie': 'leer', 'nombre': 'Juan'}\n"
          ]
        }
      ]
    },
    {
      "cell_type": "markdown",
      "source": [
        "k) Escribe una función que tome dos números como entrada y devuelva su suma."
      ],
      "metadata": {
        "id": "RYKLNQR9SqzP"
      }
    },
    {
      "cell_type": "code",
      "source": [
        "def sumar_numeros(num1, num2):\n",
        "    suma = num1 + num2\n",
        "    return suma\n",
        "\n",
        "\n",
        "resultado = sumar_numeros(5, 7)\n",
        "print(resultado) "
      ],
      "metadata": {
        "id": "a4kGyZH0Swty",
        "outputId": "813a7b71-62f7-400f-8049-90793cd38870",
        "colab": {
          "base_uri": "https://localhost:8080/"
        }
      },
      "execution_count": null,
      "outputs": [
        {
          "output_type": "stream",
          "name": "stdout",
          "text": [
            "12\n"
          ]
        }
      ]
    },
    {
      "cell_type": "markdown",
      "source": [
        "l. Crea un programa que tome dos diccionarios como entrada y devuelva un nuevo diccionario que contenga solo los pares clave-valor que son comunes a ambos diccionarios"
      ],
      "metadata": {
        "id": "ZTrjXWn6S-vs"
      }
    },
    {
      "cell_type": "code",
      "source": [
        "def filtrar_cadenas(lista_cadenas, longitud_minima):\n",
        "    nuevas_cadenas = []\n",
        "    for cadena in lista_cadenas:\n",
        "        if len(cadena) > longitud_minima:\n",
        "            nuevas_cadenas.append(cadena)\n",
        "    return nuevas_cadenas\n",
        "\n",
        "cadenas = ['amanecer', 'atardecer', 'solsticio de verano', 'solsticio de invierno']\n",
        "longitud_minima = 10\n",
        "resultado = filtrar_cadenas(cadenas, longitud_minima)\n",
        "print(resultado) "
      ],
      "metadata": {
        "colab": {
          "base_uri": "https://localhost:8080/"
        },
        "id": "JDUAYyPNTB69",
        "outputId": "75a5a4b9-294d-4f37-bce4-b2aa2c148649"
      },
      "execution_count": null,
      "outputs": [
        {
          "output_type": "stream",
          "name": "stdout",
          "text": [
            "['solsticio de verano', 'solsticio de invierno']\n"
          ]
        }
      ]
    },
    {
      "cell_type": "markdown",
      "source": [
        "m) Escribe una función que tome una cadena como entrada y devuelva True si la cadena es un palíndromo, False en caso contrario.\n"
      ],
      "metadata": {
        "id": "Dz20eKFhUsZj"
      }
    },
    {
      "cell_type": "code",
      "source": [
        "def palindromo(cadena):\n",
        "    cadena = cadena.lower().replace(\" \", \"\")\n",
        "    return cadena == cadena[::-1]\n",
        "cadena1 = \"Mal futbolista\"\n",
        "cadena2 = \"Luz azul\"\n",
        "print(palindromo(cadena1)) \n",
        "print(palindromo(cadena2))"
      ],
      "metadata": {
        "id": "o4jN0Dl_U1_4",
        "colab": {
          "base_uri": "https://localhost:8080/"
        },
        "outputId": "d72fa4a0-f23e-4589-a4a7-4cc62bda9551"
      },
      "execution_count": null,
      "outputs": [
        {
          "output_type": "stream",
          "name": "stdout",
          "text": [
            "False\n",
            "True\n"
          ]
        }
      ]
    },
    {
      "cell_type": "markdown",
      "source": [
        "n.  Crea una función que tome una lista de números como entrada y devuelva el promedio de todos los números en la lista."
      ],
      "metadata": {
        "id": "wSX87v73UUpJ"
      }
    },
    {
      "cell_type": "code",
      "source": [
        "def promedio(lista):\n",
        "    if not lista:\n",
        "        return print('No contiene valores')\n",
        "    suma = sum(lista)\n",
        "    promedio = suma / len(lista)\n",
        "    return promedio\n",
        "\n",
        "\n",
        "lista1 = [8, 11, 19, 21, 24]\n",
        "print(promedio(lista1)) "
      ],
      "metadata": {
        "id": "FenvfLemUg82",
        "outputId": "0fbb645c-ba40-4d2f-e7ec-0250fe4e435d",
        "colab": {
          "base_uri": "https://localhost:8080/"
        }
      },
      "execution_count": null,
      "outputs": [
        {
          "output_type": "stream",
          "name": "stdout",
          "text": [
            "16.6\n"
          ]
        }
      ]
    },
    {
      "cell_type": "markdown",
      "source": [
        "o. Escribe una función que tome un diccionario como entrada y devuelva una lista de todas las claves en el diccionario."
      ],
      "metadata": {
        "id": "xFR6qFd3VM9R"
      }
    },
    {
      "cell_type": "code",
      "source": [
        "def obtener_claves(diccionario):\n",
        "    return list(diccionario.keys())\n",
        "\n",
        "mi_diccionario = {'letra': 'S', 'edad': 19, 'simbolo': '%'}\n",
        "print(obtener_claves(mi_diccionario)) "
      ],
      "metadata": {
        "colab": {
          "base_uri": "https://localhost:8080/"
        },
        "id": "6aqfyCc-WAKO",
        "outputId": "accf7cce-9286-4daa-efb1-1de5fcad94b8"
      },
      "execution_count": null,
      "outputs": [
        {
          "output_type": "stream",
          "name": "stdout",
          "text": [
            "['letra', 'edad', 'simbolo']\n"
          ]
        }
      ]
    },
    {
      "cell_type": "markdown",
      "source": [
        "p. Escribe un programa que tome una lista de números como entrada y devuelva el valor máximo en la lista."
      ],
      "metadata": {
        "id": "G1m6U8WiWYn7"
      }
    },
    {
      "cell_type": "code",
      "source": [
        "def obtener_valor_maximo(lista):\n",
        "    return max(lista)\n",
        "\n",
        "mi_lista = [2, 8, 11, 19, 24]\n",
        "print(obtener_valor_maximo(mi_lista))"
      ],
      "metadata": {
        "colab": {
          "base_uri": "https://localhost:8080/"
        },
        "id": "R61VGGE5WcYY",
        "outputId": "26bd1c3e-cae2-4c33-c9b3-fcb3c5180890"
      },
      "execution_count": null,
      "outputs": [
        {
          "output_type": "stream",
          "name": "stdout",
          "text": [
            "24\n"
          ]
        }
      ]
    },
    {
      "cell_type": "markdown",
      "source": [
        "q) Crea un programa que tome una cadena como entrada y devuelva una nueva cadena que contenga solo las vocales en la cadena original."
      ],
      "metadata": {
        "id": "1Hak4t3bZWxP"
      }
    },
    {
      "cell_type": "code",
      "source": [
        "def obtener_vocales(cadena):\n",
        "    vocales = \"aeiouAEIOU\"\n",
        "    vocales_encontradas = []\n",
        "    for caracter in cadena:\n",
        "        if caracter in vocales:\n",
        "            vocales_encontradas += caracter\n",
        "    return vocales_encontradas\n",
        "\n",
        "mi_cadena = \"la vida es EFIMERA asi que vivela al MAXIMO\"\n",
        "print(obtener_vocales(mi_cadena)) "
      ],
      "metadata": {
        "colab": {
          "base_uri": "https://localhost:8080/"
        },
        "id": "uF0YGeg1Z0CH",
        "outputId": "9e8d8002-f22a-4029-f623-8c658da4d690"
      },
      "execution_count": null,
      "outputs": [
        {
          "output_type": "stream",
          "name": "stdout",
          "text": [
            "['a', 'i', 'a', 'e', 'E', 'I', 'E', 'A', 'a', 'i', 'u', 'e', 'i', 'e', 'a', 'a', 'A', 'I', 'O']\n"
          ]
        }
      ]
    },
    {
      "cell_type": "markdown",
      "source": [
        "r) Escribe un programa que tome una lista de números como entrada y devuelva una nueva lista que contenga los valores al cuadrado de cada número en la lista original."
      ],
      "metadata": {
        "id": "lgMEQw3PW3-q"
      }
    },
    {
      "cell_type": "code",
      "source": [
        "def obtener_cuadrados(lista_numeros):\n",
        "    lista_cuadrados = []\n",
        "    for numero in lista_numeros:\n",
        "        lista_cuadrados.append(numero ** 2)\n",
        "    return lista_cuadrados\n",
        "\n",
        "\n",
        "mi_lista = [4, 12, 20, 28, 36]\n",
        "print(obtener_cuadrados(mi_lista)) "
      ],
      "metadata": {
        "colab": {
          "base_uri": "https://localhost:8080/"
        },
        "id": "qhEJ4LbIXJxl",
        "outputId": "f399fd04-3d7e-4553-ae77-86402ca99ad8"
      },
      "execution_count": null,
      "outputs": [
        {
          "output_type": "stream",
          "name": "stdout",
          "text": [
            "[16, 144, 400, 784, 1296]\n"
          ]
        }
      ]
    },
    {
      "cell_type": "markdown",
      "source": [
        "s. Crea un programa que tome una cadena como entrada y devuelva una nueva cadena con los caracteres en orden inverso."
      ],
      "metadata": {
        "id": "QeTg9NtuaZkK"
      }
    },
    {
      "cell_type": "code",
      "source": [
        "def invertir_cadena(cadena):\n",
        "    return cadena[::-1]\n",
        "\n",
        "cadena1 = \"El mundo es como un pañuelo\"\n",
        "print(invertir_cadena(cadena1))"
      ],
      "metadata": {
        "colab": {
          "base_uri": "https://localhost:8080/"
        },
        "id": "S1H2siZBaooB",
        "outputId": "597a7905-09b8-49d2-c45e-bf8f39d5c561"
      },
      "execution_count": null,
      "outputs": [
        {
          "output_type": "stream",
          "name": "stdout",
          "text": [
            "oleuñap nu omoc se odnum lE\n"
          ]
        }
      ]
    },
    {
      "cell_type": "markdown",
      "source": [
        "t. Escribe un programa que tome una lista de cadenas como entrada y devuelva una nueva lista que contenga la longitud de cada cadena en la lista original."
      ],
      "metadata": {
        "id": "Cm2QcuCBbRac"
      }
    },
    {
      "cell_type": "code",
      "source": [
        "def longitud_cadenas(lista_cadenas):\n",
        "    longitudes = []\n",
        "    for cadena in lista_cadenas:\n",
        "        longitudes.append(len(cadena))\n",
        "    return longitudes\n",
        "\n",
        "listcadenas = ['El', 'que', 'se', 'enamora', 'pierde']\n",
        "longitudes = longitud_cadenas(listcadenas)\n",
        "print(longitudes)"
      ],
      "metadata": {
        "colab": {
          "base_uri": "https://localhost:8080/"
        },
        "id": "XTPFdEXLbTtC",
        "outputId": "a6343b66-fac4-44fd-8be7-ed26d6a9b2a2"
      },
      "execution_count": null,
      "outputs": [
        {
          "output_type": "stream",
          "name": "stdout",
          "text": [
            "[2, 3, 2, 7, 6]\n"
          ]
        }
      ]
    }
  ]
}